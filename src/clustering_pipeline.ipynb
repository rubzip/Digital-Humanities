{
 "cells": [
  {
   "cell_type": "code",
   "execution_count": 31,
   "id": "322187af",
   "metadata": {},
   "outputs": [],
   "source": [
    "# %pip install -U sentence-transformers\n",
    "# %pip install plotly\n",
    "from sentence_transformers import SentenceTransformer\n",
    "\n",
    "from sklearn.manifold import TSNE\n",
    "from sklearn.decomposition import PCA\n",
    "from sklearn.cluster import KMeans\n",
    "from sklearn.metrics import calinski_harabasz_score\n",
    "\n",
    "import pandas as pd\n",
    "import numpy as np\n",
    "\n",
    "import matplotlib.pyplot as plt"
   ]
  },
  {
   "cell_type": "markdown",
   "id": "d1dc1656-3771-4ac9-8b5e-03ff0781df03",
   "metadata": {},
   "source": [
    "## Data"
   ]
  },
  {
   "cell_type": "code",
   "execution_count": 22,
   "id": "72872156",
   "metadata": {},
   "outputs": [
    {
     "data": {
      "text/html": [
       "<div>\n",
       "<style scoped>\n",
       "    .dataframe tbody tr th:only-of-type {\n",
       "        vertical-align: middle;\n",
       "    }\n",
       "\n",
       "    .dataframe tbody tr th {\n",
       "        vertical-align: top;\n",
       "    }\n",
       "\n",
       "    .dataframe thead th {\n",
       "        text-align: right;\n",
       "    }\n",
       "</style>\n",
       "<table border=\"1\" class=\"dataframe\">\n",
       "  <thead>\n",
       "    <tr style=\"text-align: right;\">\n",
       "      <th></th>\n",
       "      <th>speeches</th>\n",
       "      <th>label</th>\n",
       "    </tr>\n",
       "  </thead>\n",
       "  <tbody>\n",
       "    <tr>\n",
       "      <th>0</th>\n",
       "      <td>People of that race are naturally more prone t...</td>\n",
       "      <td>racist</td>\n",
       "    </tr>\n",
       "    <tr>\n",
       "      <th>1</th>\n",
       "      <td>I'm not racist, but I wouldn't want my daughte...</td>\n",
       "      <td>racist</td>\n",
       "    </tr>\n",
       "    <tr>\n",
       "      <th>2</th>\n",
       "      <td>Those people always expect handouts from the g...</td>\n",
       "      <td>racist</td>\n",
       "    </tr>\n",
       "    <tr>\n",
       "      <th>3</th>\n",
       "      <td>They're taking our jobs and ruining the economy.</td>\n",
       "      <td>racist</td>\n",
       "    </tr>\n",
       "    <tr>\n",
       "      <th>4</th>\n",
       "      <td>You can't trust them; they're all deceitful.</td>\n",
       "      <td>racist</td>\n",
       "    </tr>\n",
       "    <tr>\n",
       "      <th>5</th>\n",
       "      <td>That neighborhood is dangerous because it's po...</td>\n",
       "      <td>racist</td>\n",
       "    </tr>\n",
       "    <tr>\n",
       "      <th>6</th>\n",
       "      <td>They're just lazy; that's why they're unemployed.</td>\n",
       "      <td>racist</td>\n",
       "    </tr>\n",
       "    <tr>\n",
       "      <th>7</th>\n",
       "      <td>You can't expect them to understand; they're n...</td>\n",
       "      <td>racist</td>\n",
       "    </tr>\n",
       "    <tr>\n",
       "      <th>8</th>\n",
       "      <td>I don't feel comfortable around them; they're ...</td>\n",
       "      <td>racist</td>\n",
       "    </tr>\n",
       "    <tr>\n",
       "      <th>9</th>\n",
       "      <td>They smell bad; it's because of their race.</td>\n",
       "      <td>racist</td>\n",
       "    </tr>\n",
       "    <tr>\n",
       "      <th>10</th>\n",
       "      <td>Women are too emotional to handle leadership p...</td>\n",
       "      <td>sexist</td>\n",
       "    </tr>\n",
       "    <tr>\n",
       "      <th>11</th>\n",
       "      <td>She's only successful because she flirted her ...</td>\n",
       "      <td>sexist</td>\n",
       "    </tr>\n",
       "    <tr>\n",
       "      <th>12</th>\n",
       "      <td>Men are naturally better suited for STEM fields.</td>\n",
       "      <td>sexist</td>\n",
       "    </tr>\n",
       "    <tr>\n",
       "      <th>13</th>\n",
       "      <td>Why do we even bother educating girls? They'll...</td>\n",
       "      <td>sexist</td>\n",
       "    </tr>\n",
       "    <tr>\n",
       "      <th>14</th>\n",
       "      <td>You throw like a girl.</td>\n",
       "      <td>sexist</td>\n",
       "    </tr>\n",
       "    <tr>\n",
       "      <th>15</th>\n",
       "      <td>She's probably on her period; that's why she's...</td>\n",
       "      <td>sexist</td>\n",
       "    </tr>\n",
       "    <tr>\n",
       "      <th>16</th>\n",
       "      <td>Women are too sensitive; they can't handle con...</td>\n",
       "      <td>sexist</td>\n",
       "    </tr>\n",
       "    <tr>\n",
       "      <th>17</th>\n",
       "      <td>Girls should focus on their looks; that's all ...</td>\n",
       "      <td>sexist</td>\n",
       "    </tr>\n",
       "    <tr>\n",
       "      <th>18</th>\n",
       "      <td>He's such a mama's boy; no wonder he can't mak...</td>\n",
       "      <td>sexist</td>\n",
       "    </tr>\n",
       "    <tr>\n",
       "      <th>19</th>\n",
       "      <td>Men should be the breadwinners; it's their rol...</td>\n",
       "      <td>sexist</td>\n",
       "    </tr>\n",
       "    <tr>\n",
       "      <th>20</th>\n",
       "      <td>The sky is blue, and the grass is green.</td>\n",
       "      <td>random</td>\n",
       "    </tr>\n",
       "    <tr>\n",
       "      <th>21</th>\n",
       "      <td>The quick brown fox jumps over the lazy dog.</td>\n",
       "      <td>random</td>\n",
       "    </tr>\n",
       "    <tr>\n",
       "      <th>22</th>\n",
       "      <td>Roses are red, violets are blue, sugar is swee...</td>\n",
       "      <td>random</td>\n",
       "    </tr>\n",
       "    <tr>\n",
       "      <th>23</th>\n",
       "      <td>The Earth orbits the Sun.</td>\n",
       "      <td>random</td>\n",
       "    </tr>\n",
       "    <tr>\n",
       "      <th>24</th>\n",
       "      <td>Water boils at 100 degrees Celsius.</td>\n",
       "      <td>random</td>\n",
       "    </tr>\n",
       "    <tr>\n",
       "      <th>25</th>\n",
       "      <td>The capital of France is Paris.</td>\n",
       "      <td>random</td>\n",
       "    </tr>\n",
       "    <tr>\n",
       "      <th>26</th>\n",
       "      <td>Mount Everest is the tallest mountain in the w...</td>\n",
       "      <td>random</td>\n",
       "    </tr>\n",
       "    <tr>\n",
       "      <th>27</th>\n",
       "      <td>The Mona Lisa was painted by Leonardo da Vinci.</td>\n",
       "      <td>random</td>\n",
       "    </tr>\n",
       "    <tr>\n",
       "      <th>28</th>\n",
       "      <td>The mitochondria are the powerhouse of the cell.</td>\n",
       "      <td>random</td>\n",
       "    </tr>\n",
       "    <tr>\n",
       "      <th>29</th>\n",
       "      <td>Bees pollinate flowers, contributing to biodiv...</td>\n",
       "      <td>random</td>\n",
       "    </tr>\n",
       "  </tbody>\n",
       "</table>\n",
       "</div>"
      ],
      "text/plain": [
       "                                             speeches   label\n",
       "0   People of that race are naturally more prone t...  racist\n",
       "1   I'm not racist, but I wouldn't want my daughte...  racist\n",
       "2   Those people always expect handouts from the g...  racist\n",
       "3    They're taking our jobs and ruining the economy.  racist\n",
       "4        You can't trust them; they're all deceitful.  racist\n",
       "5   That neighborhood is dangerous because it's po...  racist\n",
       "6   They're just lazy; that's why they're unemployed.  racist\n",
       "7   You can't expect them to understand; they're n...  racist\n",
       "8   I don't feel comfortable around them; they're ...  racist\n",
       "9         They smell bad; it's because of their race.  racist\n",
       "10  Women are too emotional to handle leadership p...  sexist\n",
       "11  She's only successful because she flirted her ...  sexist\n",
       "12   Men are naturally better suited for STEM fields.  sexist\n",
       "13  Why do we even bother educating girls? They'll...  sexist\n",
       "14                             You throw like a girl.  sexist\n",
       "15  She's probably on her period; that's why she's...  sexist\n",
       "16  Women are too sensitive; they can't handle con...  sexist\n",
       "17  Girls should focus on their looks; that's all ...  sexist\n",
       "18  He's such a mama's boy; no wonder he can't mak...  sexist\n",
       "19  Men should be the breadwinners; it's their rol...  sexist\n",
       "20           The sky is blue, and the grass is green.  random\n",
       "21       The quick brown fox jumps over the lazy dog.  random\n",
       "22  Roses are red, violets are blue, sugar is swee...  random\n",
       "23                          The Earth orbits the Sun.  random\n",
       "24                Water boils at 100 degrees Celsius.  random\n",
       "25                    The capital of France is Paris.  random\n",
       "26  Mount Everest is the tallest mountain in the w...  random\n",
       "27    The Mona Lisa was painted by Leonardo da Vinci.  random\n",
       "28   The mitochondria are the powerhouse of the cell.  random\n",
       "29  Bees pollinate flowers, contributing to biodiv...  random"
      ]
     },
     "execution_count": 22,
     "metadata": {},
     "output_type": "execute_result"
    }
   ],
   "source": [
    "# Racist Sentences\n",
    "racist_sentences = [\n",
    "    \"People of that race are naturally more prone to criminal behavior.\",\n",
    "    \"I'm not racist, but I wouldn't want my daughter to marry someone from that race.\",\n",
    "    \"Those people always expect handouts from the government.\",\n",
    "    \"They're taking our jobs and ruining the economy.\",\n",
    "    \"You can't trust them; they're all deceitful.\",\n",
    "    \"That neighborhood is dangerous because it's populated by niggers.\",\n",
    "    \"They're just lazy; that's why they're unemployed.\",\n",
    "    \"You can't expect them to understand; they're not as intelligent as us.\",\n",
    "    \"I don't feel comfortable around them; they're so different from us.\",\n",
    "    \"They smell bad; it's because of their race.\"\n",
    "]\n",
    "\n",
    "# Sexist Sentences\n",
    "sexist_sentences = [\n",
    "    \"Women are too emotional to handle leadership positions.\",\n",
    "    \"She's only successful because she flirted her way to the top.\",\n",
    "    \"Men are naturally better suited for STEM fields.\",\n",
    "    \"Why do we even bother educating girls? They'll end up as homemakers anyway.\",\n",
    "    \"You throw like a girl.\",\n",
    "    \"She's probably on her period; that's why she's so irritable.\",\n",
    "    \"Women are too sensitive; they can't handle constructive criticism.\",\n",
    "    \"Girls should focus on their looks; that's all that matters.\",\n",
    "    \"He's such a mama's boy; no wonder he can't make his own decisions.\",\n",
    "    \"Men should be the breadwinners; it's their role in society.\"\n",
    "]\n",
    "\n",
    "# Random Sentences\n",
    "random_sentences = [\n",
    "    \"The sky is blue, and the grass is green.\",\n",
    "    \"The quick brown fox jumps over the lazy dog.\",\n",
    "    \"Roses are red, violets are blue, sugar is sweet, and so are you.\",\n",
    "    \"The Earth orbits the Sun.\",\n",
    "    \"Water boils at 100 degrees Celsius.\",\n",
    "    \"The capital of France is Paris.\",\n",
    "    \"Mount Everest is the tallest mountain in the world.\",\n",
    "    \"The Mona Lisa was painted by Leonardo da Vinci.\",\n",
    "    \"The mitochondria are the powerhouse of the cell.\",\n",
    "    \"Bees pollinate flowers, contributing to biodiversity.\"\n",
    "]\n",
    "\n",
    "speeches = []\n",
    "speeches += racist_sentences\n",
    "speeches += sexist_sentences\n",
    "speeches += random_sentences\n",
    "\n",
    "labels = [\"racist\" for _ in range(len(racist_sentences))] + [\"sexist\" for _ in range(len(sexist_sentences))] + [\"random\" for _ in range(len(random_sentences))]\n",
    "\n",
    "df = pd.DataFrame()\n",
    "df[\"speeches\"] = speeches\n",
    "df[\"label\"] = labels\n",
    "\n",
    "df"
   ]
  },
  {
   "cell_type": "markdown",
   "id": "5745d755-ee9e-43b5-bb5d-9ab70ae5a19c",
   "metadata": {},
   "source": [
    "## Sentence Embedding"
   ]
  },
  {
   "cell_type": "code",
   "execution_count": 23,
   "id": "0b607360-efd8-4f10-bd0c-e583e4ee9adc",
   "metadata": {},
   "outputs": [],
   "source": [
    "sentence_model = SentenceTransformer('sentence-transformers/all-MiniLM-L6-v2')\n",
    "X = sentence_model.encode(speeches)"
   ]
  },
  {
   "cell_type": "markdown",
   "id": "54007b12-2a93-40bb-ab01-ade21e632a6e",
   "metadata": {},
   "source": [
    "## Dimensional Reduction"
   ]
  },
  {
   "cell_type": "code",
   "execution_count": 30,
   "id": "2b87d65d-0fb9-47a7-a5f0-c219d99547e4",
   "metadata": {},
   "outputs": [
    {
     "data": {
      "text/html": [
       "<div>\n",
       "<style scoped>\n",
       "    .dataframe tbody tr th:only-of-type {\n",
       "        vertical-align: middle;\n",
       "    }\n",
       "\n",
       "    .dataframe tbody tr th {\n",
       "        vertical-align: top;\n",
       "    }\n",
       "\n",
       "    .dataframe thead th {\n",
       "        text-align: right;\n",
       "    }\n",
       "</style>\n",
       "<table border=\"1\" class=\"dataframe\">\n",
       "  <thead>\n",
       "    <tr style=\"text-align: right;\">\n",
       "      <th></th>\n",
       "      <th>speeches</th>\n",
       "      <th>label</th>\n",
       "      <th>x0</th>\n",
       "      <th>x1</th>\n",
       "      <th>x2</th>\n",
       "    </tr>\n",
       "  </thead>\n",
       "  <tbody>\n",
       "    <tr>\n",
       "      <th>0</th>\n",
       "      <td>People of that race are naturally more prone t...</td>\n",
       "      <td>racist</td>\n",
       "      <td>-0.222592</td>\n",
       "      <td>0.324495</td>\n",
       "      <td>-0.213096</td>\n",
       "    </tr>\n",
       "    <tr>\n",
       "      <th>1</th>\n",
       "      <td>I'm not racist, but I wouldn't want my daughte...</td>\n",
       "      <td>racist</td>\n",
       "      <td>-0.183404</td>\n",
       "      <td>0.171039</td>\n",
       "      <td>-0.354358</td>\n",
       "    </tr>\n",
       "    <tr>\n",
       "      <th>2</th>\n",
       "      <td>Those people always expect handouts from the g...</td>\n",
       "      <td>racist</td>\n",
       "      <td>-0.182082</td>\n",
       "      <td>0.289747</td>\n",
       "      <td>0.271569</td>\n",
       "    </tr>\n",
       "    <tr>\n",
       "      <th>3</th>\n",
       "      <td>They're taking our jobs and ruining the economy.</td>\n",
       "      <td>racist</td>\n",
       "      <td>-0.010360</td>\n",
       "      <td>0.395052</td>\n",
       "      <td>0.217655</td>\n",
       "    </tr>\n",
       "    <tr>\n",
       "      <th>4</th>\n",
       "      <td>You can't trust them; they're all deceitful.</td>\n",
       "      <td>racist</td>\n",
       "      <td>-0.365503</td>\n",
       "      <td>0.207594</td>\n",
       "      <td>-0.154180</td>\n",
       "    </tr>\n",
       "  </tbody>\n",
       "</table>\n",
       "</div>"
      ],
      "text/plain": [
       "                                            speeches   label        x0  \\\n",
       "0  People of that race are naturally more prone t...  racist -0.222592   \n",
       "1  I'm not racist, but I wouldn't want my daughte...  racist -0.183404   \n",
       "2  Those people always expect handouts from the g...  racist -0.182082   \n",
       "3   They're taking our jobs and ruining the economy.  racist -0.010360   \n",
       "4       You can't trust them; they're all deceitful.  racist -0.365503   \n",
       "\n",
       "         x1        x2  \n",
       "0  0.324495 -0.213096  \n",
       "1  0.171039 -0.354358  \n",
       "2  0.289747  0.271569  \n",
       "3  0.395052  0.217655  \n",
       "4  0.207594 -0.154180  "
      ]
     },
     "execution_count": 30,
     "metadata": {},
     "output_type": "execute_result"
    }
   ],
   "source": [
    "dim = 3\n",
    "\n",
    "reductor = PCA(dim)\n",
    "# reductor = TSNE(dim)\n",
    "\n",
    "X_emb = reductor.fit_transform(X)\n",
    "df[[f\"x{i}\" for i in range(dim)]] = X_emb\n",
    "df.head()"
   ]
  },
  {
   "cell_type": "markdown",
   "id": "1a17c02a-706a-444d-bebc-274fd7936dd1",
   "metadata": {},
   "source": [
    "## Clustering"
   ]
  },
  {
   "cell_type": "code",
   "execution_count": 33,
   "id": "cf80a458-5cde-4269-a567-8045efc75e3b",
   "metadata": {},
   "outputs": [
    {
     "name": "stderr",
     "output_type": "stream",
     "text": [
      "C:\\Users\\ruben\\anaconda3\\Lib\\site-packages\\sklearn\\cluster\\_kmeans.py:870: FutureWarning: The default value of `n_init` will change from 10 to 'auto' in 1.4. Set the value of `n_init` explicitly to suppress the warning\n",
      "  warnings.warn(\n",
      "C:\\Users\\ruben\\anaconda3\\Lib\\site-packages\\sklearn\\cluster\\_kmeans.py:1382: UserWarning: KMeans is known to have a memory leak on Windows with MKL, when there are less chunks than available threads. You can avoid it by setting the environment variable OMP_NUM_THREADS=1.\n",
      "  warnings.warn(\n",
      "C:\\Users\\ruben\\anaconda3\\Lib\\site-packages\\sklearn\\cluster\\_kmeans.py:870: FutureWarning: The default value of `n_init` will change from 10 to 'auto' in 1.4. Set the value of `n_init` explicitly to suppress the warning\n",
      "  warnings.warn(\n",
      "C:\\Users\\ruben\\anaconda3\\Lib\\site-packages\\sklearn\\cluster\\_kmeans.py:1382: UserWarning: KMeans is known to have a memory leak on Windows with MKL, when there are less chunks than available threads. You can avoid it by setting the environment variable OMP_NUM_THREADS=1.\n",
      "  warnings.warn(\n",
      "C:\\Users\\ruben\\anaconda3\\Lib\\site-packages\\sklearn\\cluster\\_kmeans.py:870: FutureWarning: The default value of `n_init` will change from 10 to 'auto' in 1.4. Set the value of `n_init` explicitly to suppress the warning\n",
      "  warnings.warn(\n",
      "C:\\Users\\ruben\\anaconda3\\Lib\\site-packages\\sklearn\\cluster\\_kmeans.py:1382: UserWarning: KMeans is known to have a memory leak on Windows with MKL, when there are less chunks than available threads. You can avoid it by setting the environment variable OMP_NUM_THREADS=1.\n",
      "  warnings.warn(\n",
      "C:\\Users\\ruben\\anaconda3\\Lib\\site-packages\\sklearn\\cluster\\_kmeans.py:870: FutureWarning: The default value of `n_init` will change from 10 to 'auto' in 1.4. Set the value of `n_init` explicitly to suppress the warning\n",
      "  warnings.warn(\n",
      "C:\\Users\\ruben\\anaconda3\\Lib\\site-packages\\sklearn\\cluster\\_kmeans.py:1382: UserWarning: KMeans is known to have a memory leak on Windows with MKL, when there are less chunks than available threads. You can avoid it by setting the environment variable OMP_NUM_THREADS=1.\n",
      "  warnings.warn(\n",
      "C:\\Users\\ruben\\anaconda3\\Lib\\site-packages\\sklearn\\cluster\\_kmeans.py:870: FutureWarning: The default value of `n_init` will change from 10 to 'auto' in 1.4. Set the value of `n_init` explicitly to suppress the warning\n",
      "  warnings.warn(\n",
      "C:\\Users\\ruben\\anaconda3\\Lib\\site-packages\\sklearn\\cluster\\_kmeans.py:1382: UserWarning: KMeans is known to have a memory leak on Windows with MKL, when there are less chunks than available threads. You can avoid it by setting the environment variable OMP_NUM_THREADS=1.\n",
      "  warnings.warn(\n",
      "C:\\Users\\ruben\\anaconda3\\Lib\\site-packages\\sklearn\\cluster\\_kmeans.py:870: FutureWarning: The default value of `n_init` will change from 10 to 'auto' in 1.4. Set the value of `n_init` explicitly to suppress the warning\n",
      "  warnings.warn(\n",
      "C:\\Users\\ruben\\anaconda3\\Lib\\site-packages\\sklearn\\cluster\\_kmeans.py:1382: UserWarning: KMeans is known to have a memory leak on Windows with MKL, when there are less chunks than available threads. You can avoid it by setting the environment variable OMP_NUM_THREADS=1.\n",
      "  warnings.warn(\n",
      "C:\\Users\\ruben\\anaconda3\\Lib\\site-packages\\sklearn\\cluster\\_kmeans.py:870: FutureWarning: The default value of `n_init` will change from 10 to 'auto' in 1.4. Set the value of `n_init` explicitly to suppress the warning\n",
      "  warnings.warn(\n",
      "C:\\Users\\ruben\\anaconda3\\Lib\\site-packages\\sklearn\\cluster\\_kmeans.py:1382: UserWarning: KMeans is known to have a memory leak on Windows with MKL, when there are less chunks than available threads. You can avoid it by setting the environment variable OMP_NUM_THREADS=1.\n",
      "  warnings.warn(\n",
      "C:\\Users\\ruben\\anaconda3\\Lib\\site-packages\\sklearn\\cluster\\_kmeans.py:870: FutureWarning: The default value of `n_init` will change from 10 to 'auto' in 1.4. Set the value of `n_init` explicitly to suppress the warning\n",
      "  warnings.warn(\n",
      "C:\\Users\\ruben\\anaconda3\\Lib\\site-packages\\sklearn\\cluster\\_kmeans.py:1382: UserWarning: KMeans is known to have a memory leak on Windows with MKL, when there are less chunks than available threads. You can avoid it by setting the environment variable OMP_NUM_THREADS=1.\n",
      "  warnings.warn(\n",
      "C:\\Users\\ruben\\anaconda3\\Lib\\site-packages\\sklearn\\cluster\\_kmeans.py:870: FutureWarning: The default value of `n_init` will change from 10 to 'auto' in 1.4. Set the value of `n_init` explicitly to suppress the warning\n",
      "  warnings.warn(\n",
      "C:\\Users\\ruben\\anaconda3\\Lib\\site-packages\\sklearn\\cluster\\_kmeans.py:1382: UserWarning: KMeans is known to have a memory leak on Windows with MKL, when there are less chunks than available threads. You can avoid it by setting the environment variable OMP_NUM_THREADS=1.\n",
      "  warnings.warn(\n",
      "C:\\Users\\ruben\\anaconda3\\Lib\\site-packages\\sklearn\\cluster\\_kmeans.py:870: FutureWarning: The default value of `n_init` will change from 10 to 'auto' in 1.4. Set the value of `n_init` explicitly to suppress the warning\n",
      "  warnings.warn(\n",
      "C:\\Users\\ruben\\anaconda3\\Lib\\site-packages\\sklearn\\cluster\\_kmeans.py:1382: UserWarning: KMeans is known to have a memory leak on Windows with MKL, when there are less chunks than available threads. You can avoid it by setting the environment variable OMP_NUM_THREADS=1.\n",
      "  warnings.warn(\n",
      "C:\\Users\\ruben\\anaconda3\\Lib\\site-packages\\sklearn\\cluster\\_kmeans.py:870: FutureWarning: The default value of `n_init` will change from 10 to 'auto' in 1.4. Set the value of `n_init` explicitly to suppress the warning\n",
      "  warnings.warn(\n",
      "C:\\Users\\ruben\\anaconda3\\Lib\\site-packages\\sklearn\\cluster\\_kmeans.py:1382: UserWarning: KMeans is known to have a memory leak on Windows with MKL, when there are less chunks than available threads. You can avoid it by setting the environment variable OMP_NUM_THREADS=1.\n",
      "  warnings.warn(\n",
      "C:\\Users\\ruben\\anaconda3\\Lib\\site-packages\\sklearn\\cluster\\_kmeans.py:870: FutureWarning: The default value of `n_init` will change from 10 to 'auto' in 1.4. Set the value of `n_init` explicitly to suppress the warning\n",
      "  warnings.warn(\n",
      "C:\\Users\\ruben\\anaconda3\\Lib\\site-packages\\sklearn\\cluster\\_kmeans.py:1382: UserWarning: KMeans is known to have a memory leak on Windows with MKL, when there are less chunks than available threads. You can avoid it by setting the environment variable OMP_NUM_THREADS=1.\n",
      "  warnings.warn(\n",
      "C:\\Users\\ruben\\anaconda3\\Lib\\site-packages\\sklearn\\cluster\\_kmeans.py:870: FutureWarning: The default value of `n_init` will change from 10 to 'auto' in 1.4. Set the value of `n_init` explicitly to suppress the warning\n",
      "  warnings.warn(\n",
      "C:\\Users\\ruben\\anaconda3\\Lib\\site-packages\\sklearn\\cluster\\_kmeans.py:1382: UserWarning: KMeans is known to have a memory leak on Windows with MKL, when there are less chunks than available threads. You can avoid it by setting the environment variable OMP_NUM_THREADS=1.\n",
      "  warnings.warn(\n",
      "C:\\Users\\ruben\\anaconda3\\Lib\\site-packages\\sklearn\\cluster\\_kmeans.py:870: FutureWarning: The default value of `n_init` will change from 10 to 'auto' in 1.4. Set the value of `n_init` explicitly to suppress the warning\n",
      "  warnings.warn(\n",
      "C:\\Users\\ruben\\anaconda3\\Lib\\site-packages\\sklearn\\cluster\\_kmeans.py:1382: UserWarning: KMeans is known to have a memory leak on Windows with MKL, when there are less chunks than available threads. You can avoid it by setting the environment variable OMP_NUM_THREADS=1.\n",
      "  warnings.warn(\n",
      "C:\\Users\\ruben\\anaconda3\\Lib\\site-packages\\sklearn\\cluster\\_kmeans.py:870: FutureWarning: The default value of `n_init` will change from 10 to 'auto' in 1.4. Set the value of `n_init` explicitly to suppress the warning\n",
      "  warnings.warn(\n",
      "C:\\Users\\ruben\\anaconda3\\Lib\\site-packages\\sklearn\\cluster\\_kmeans.py:1382: UserWarning: KMeans is known to have a memory leak on Windows with MKL, when there are less chunks than available threads. You can avoid it by setting the environment variable OMP_NUM_THREADS=1.\n",
      "  warnings.warn(\n"
     ]
    }
   ],
   "source": [
    "ks = []\n",
    "calinski = []\n",
    "inertias = []\n",
    "\n",
    "for k in range(3, 18):\n",
    "    model = KMeans(k)\n",
    "    clusters = model.fit_predict(X_emb)\n",
    "\n",
    "    ks.append(k)\n",
    "    inertias.append(model.inertia_)\n",
    "    calinski.append(calinski_harabasz_score(X_emb, clusters))\n",
    "\n",
    "best_i = np.argmax(calinski)\n",
    "best_k = ks[best_i]"
   ]
  },
  {
   "cell_type": "code",
   "execution_count": 34,
   "id": "0223fa6e-79b1-43ad-9126-d0fd09612b32",
   "metadata": {},
   "outputs": [
    {
     "data": {
      "image/png": "[encoded data removed]",
      "text/plain": [
       "<Figure size 1000x800 with 1 Axes>"
      ]
     },
     "metadata": {},
     "output_type": "display_data"
    }
   ],
   "source": [
    "plt.figure(figsize=(10, 8))\n",
    "plt.plot(ks, inertias, marker='o', linestyle='--')\n",
    "plt.xlabel(\"Number of clusters\")\n",
    "plt.ylabel(\"WCSS\")\n",
    "\n",
    "plt.show()"
   ]
  },
  {
   "cell_type": "code",
   "execution_count": 38,
   "id": "36fdc5ca-c050-4492-af8c-e8d233bfd102",
   "metadata": {},
   "outputs": [
    {
     "name": "stderr",
     "output_type": "stream",
     "text": [
      "C:\\Users\\ruben\\anaconda3\\Lib\\site-packages\\sklearn\\cluster\\_kmeans.py:870: FutureWarning: The default value of `n_init` will change from 10 to 'auto' in 1.4. Set the value of `n_init` explicitly to suppress the warning\n",
      "  warnings.warn(\n",
      "C:\\Users\\ruben\\anaconda3\\Lib\\site-packages\\sklearn\\cluster\\_kmeans.py:1382: UserWarning: KMeans is known to have a memory leak on Windows with MKL, when there are less chunks than available threads. You can avoid it by setting the environment variable OMP_NUM_THREADS=1.\n",
      "  warnings.warn(\n"
     ]
    },
    {
     "data": {
      "text/html": [
       "<div>\n",
       "<style scoped>\n",
       "    .dataframe tbody tr th:only-of-type {\n",
       "        vertical-align: middle;\n",
       "    }\n",
       "\n",
       "    .dataframe tbody tr th {\n",
       "        vertical-align: top;\n",
       "    }\n",
       "\n",
       "    .dataframe thead th {\n",
       "        text-align: right;\n",
       "    }\n",
       "</style>\n",
       "<table border=\"1\" class=\"dataframe\">\n",
       "  <thead>\n",
       "    <tr style=\"text-align: right;\">\n",
       "      <th></th>\n",
       "      <th>speeches</th>\n",
       "      <th>label</th>\n",
       "      <th>x0</th>\n",
       "      <th>x1</th>\n",
       "      <th>x2</th>\n",
       "      <th>cluster</th>\n",
       "    </tr>\n",
       "  </thead>\n",
       "  <tbody>\n",
       "    <tr>\n",
       "      <th>0</th>\n",
       "      <td>People of that race are naturally more prone t...</td>\n",
       "      <td>racist</td>\n",
       "      <td>-0.222592</td>\n",
       "      <td>0.324495</td>\n",
       "      <td>-0.213096</td>\n",
       "      <td>0</td>\n",
       "    </tr>\n",
       "    <tr>\n",
       "      <th>1</th>\n",
       "      <td>I'm not racist, but I wouldn't want my daughte...</td>\n",
       "      <td>racist</td>\n",
       "      <td>-0.183404</td>\n",
       "      <td>0.171039</td>\n",
       "      <td>-0.354358</td>\n",
       "      <td>0</td>\n",
       "    </tr>\n",
       "    <tr>\n",
       "      <th>2</th>\n",
       "      <td>Those people always expect handouts from the g...</td>\n",
       "      <td>racist</td>\n",
       "      <td>-0.182082</td>\n",
       "      <td>0.289747</td>\n",
       "      <td>0.271569</td>\n",
       "      <td>4</td>\n",
       "    </tr>\n",
       "    <tr>\n",
       "      <th>3</th>\n",
       "      <td>They're taking our jobs and ruining the economy.</td>\n",
       "      <td>racist</td>\n",
       "      <td>-0.010360</td>\n",
       "      <td>0.395052</td>\n",
       "      <td>0.217655</td>\n",
       "      <td>4</td>\n",
       "    </tr>\n",
       "    <tr>\n",
       "      <th>4</th>\n",
       "      <td>You can't trust them; they're all deceitful.</td>\n",
       "      <td>racist</td>\n",
       "      <td>-0.365503</td>\n",
       "      <td>0.207594</td>\n",
       "      <td>-0.154180</td>\n",
       "      <td>0</td>\n",
       "    </tr>\n",
       "  </tbody>\n",
       "</table>\n",
       "</div>"
      ],
      "text/plain": [
       "                                            speeches   label        x0  \\\n",
       "0  People of that race are naturally more prone t...  racist -0.222592   \n",
       "1  I'm not racist, but I wouldn't want my daughte...  racist -0.183404   \n",
       "2  Those people always expect handouts from the g...  racist -0.182082   \n",
       "3   They're taking our jobs and ruining the economy.  racist -0.010360   \n",
       "4       You can't trust them; they're all deceitful.  racist -0.365503   \n",
       "\n",
       "         x1        x2  cluster  \n",
       "0  0.324495 -0.213096        0  \n",
       "1  0.171039 -0.354358        0  \n",
       "2  0.289747  0.271569        4  \n",
       "3  0.395052  0.217655        4  \n",
       "4  0.207594 -0.154180        0  "
      ]
     },
     "execution_count": 38,
     "metadata": {},
     "output_type": "execute_result"
    }
   ],
   "source": [
    "selected_k = 7\n",
    "\n",
    "model = KMeans(selected_k)\n",
    "clusters = model.fit_predict(X_emb)\n",
    "\n",
    "df[\"cluster\"] = clusters\n",
    "df.head()"
   ]
  },
  {
   "cell_type": "code",
   "execution_count": 9,
   "id": "ce199820",
   "metadata": {},
   "outputs": [],
   "source": [
    "def clusterize(df, dim=2):\n",
    "    sentence_model = SentenceTransformer('sentence-transformers/all-MiniLM-L6-v2')\n",
    "    tsne = TSNE(dim)\n",
    "    \n",
    "    speeches = df[\"speeches\"]\n",
    "    speeches_embedded = sentence_model.encode(speeches)\n",
    "    \n",
    "    speeches_emb = tsne.fit_transform(speeches_embedded)\n",
    "    df[[\"x\", \"y\", \"z\"][:dim]] = speeches_emb\n",
    "    \n",
    "    ks = []\n",
    "    calinski = []\n",
    "    inertias = []\n",
    "    for k in range(3, 18):\n",
    "        model = KMeans(k)\n",
    "        cluster = model.fit_predict(speeches_emb)\n",
    "\n",
    "        ks.append(k)\n",
    "        inertias.append(model.inertia_)\n",
    "        calinski.append(calinski_harabasz_score(speeches_emb, cluster))\n",
    "    \n",
    "    best_i = np.argmax(calinski)\n",
    "    best_k = ks[best_i]\n",
    "    \n",
    "    kmeans = KMeans(best_k)\n",
    "    cluster = kmeans.fit_predict(speeches_emb)\n",
    "    \n",
    "    df[\"cluster\"] = cluster\n",
    "    \n",
    "    return df"
   ]
  },
  {
   "cell_type": "code",
   "execution_count": 16,
   "id": "d54e2690",
   "metadata": {},
   "outputs": [],
   "source": []
  },
  {
   "cell_type": "code",
   "execution_count": 17,
   "id": "6da7bc05",
   "metadata": {},
   "outputs": [],
   "source": []
  },
  {
   "cell_type": "code",
   "execution_count": 21,
   "id": "502e9fa0-71e5-4d4a-9ca8-1181b49c098f",
   "metadata": {},
   "outputs": [
    {
     "data": {
      "text/plain": [
       "array([[-0.22259235,  0.3244945 , -0.21309614],\n",
       "       [-0.18340395,  0.17103949, -0.35435835],\n",
       "       [-0.18208233,  0.28974742,  0.27156883],\n",
       "       [-0.01036025,  0.39505184,  0.21765473],\n",
       "       [-0.36550307,  0.20759434, -0.1541798 ],\n",
       "       [ 0.02210078,  0.34882733, -0.3173578 ],\n",
       "       [-0.097951  ,  0.24591886,  0.2710096 ],\n",
       "       [-0.34967887,  0.28029725,  0.06015052],\n",
       "       [-0.33719924,  0.24757227, -0.10113873],\n",
       "       [-0.16424137,  0.40791428, -0.18005839],\n",
       "       [-0.36490497, -0.38225487,  0.10740616],\n",
       "       [ 0.03031723, -0.407073  , -0.11426668],\n",
       "       [-0.18183403, -0.05624132,  0.4587048 ],\n",
       "       [-0.3713908 , -0.208572  ,  0.24616776],\n",
       "       [ 0.14320804, -0.32320133, -0.02082472],\n",
       "       [-0.14781916, -0.3973742 , -0.34236038],\n",
       "       [-0.4267116 , -0.3854046 , -0.04874066],\n",
       "       [-0.20173334, -0.3945837 ,  0.06394056],\n",
       "       [-0.03981345, -0.01807715, -0.12326358],\n",
       "       [-0.18380396, -0.16591938,  0.4436214 ],\n",
       "       [ 0.5852927 ,  0.13889037,  0.27543935],\n",
       "       [ 0.3509523 ,  0.19417287,  0.01929055],\n",
       "       [ 0.3327417 , -0.02047015,  0.19440548],\n",
       "       [ 0.5398851 ,  0.00313249,  0.07959976],\n",
       "       [ 0.14261821, -0.06357584, -0.4343933 ],\n",
       "       [ 0.30621532, -0.12770495, -0.19786242],\n",
       "       [ 0.36937723,  0.01017681, -0.23774809],\n",
       "       [ 0.32944965, -0.22191136, -0.26298398],\n",
       "       [ 0.31840736, -0.1229377 ,  0.19284227],\n",
       "       [ 0.36045763,  0.03047045,  0.20083192]], dtype=float32)"
      ]
     },
     "execution_count": 21,
     "metadata": {},
     "output_type": "execute_result"
    }
   ],
   "source": [
    "\n",
    "X_emb"
   ]
  },
  {
   "cell_type": "code",
   "execution_count": 7,
   "id": "fc8d263d",
   "metadata": {},
   "outputs": [
    {
     "data": {
      "text/html": [
       "<div>\n",
       "<style scoped>\n",
       "    .dataframe tbody tr th:only-of-type {\n",
       "        vertical-align: middle;\n",
       "    }\n",
       "\n",
       "    .dataframe tbody tr th {\n",
       "        vertical-align: top;\n",
       "    }\n",
       "\n",
       "    .dataframe thead th {\n",
       "        text-align: right;\n",
       "    }\n",
       "</style>\n",
       "<table border=\"1\" class=\"dataframe\">\n",
       "  <thead>\n",
       "    <tr style=\"text-align: right;\">\n",
       "      <th></th>\n",
       "      <th>speeches</th>\n",
       "      <th>label</th>\n",
       "    </tr>\n",
       "  </thead>\n",
       "  <tbody>\n",
       "    <tr>\n",
       "      <th>0</th>\n",
       "      <td>People of that race are naturally more prone t...</td>\n",
       "      <td>racist</td>\n",
       "    </tr>\n",
       "    <tr>\n",
       "      <th>1</th>\n",
       "      <td>I'm not racist, but I wouldn't want my daughte...</td>\n",
       "      <td>racist</td>\n",
       "    </tr>\n",
       "    <tr>\n",
       "      <th>2</th>\n",
       "      <td>Those people always expect handouts from the g...</td>\n",
       "      <td>racist</td>\n",
       "    </tr>\n",
       "    <tr>\n",
       "      <th>3</th>\n",
       "      <td>They're taking our jobs and ruining the economy.</td>\n",
       "      <td>racist</td>\n",
       "    </tr>\n",
       "    <tr>\n",
       "      <th>4</th>\n",
       "      <td>You can't trust them; they're all deceitful.</td>\n",
       "      <td>racist</td>\n",
       "    </tr>\n",
       "    <tr>\n",
       "      <th>5</th>\n",
       "      <td>That neighborhood is dangerous because it's po...</td>\n",
       "      <td>racist</td>\n",
       "    </tr>\n",
       "    <tr>\n",
       "      <th>6</th>\n",
       "      <td>They're just lazy; that's why they're unemployed.</td>\n",
       "      <td>racist</td>\n",
       "    </tr>\n",
       "    <tr>\n",
       "      <th>7</th>\n",
       "      <td>You can't expect them to understand; they're n...</td>\n",
       "      <td>racist</td>\n",
       "    </tr>\n",
       "    <tr>\n",
       "      <th>8</th>\n",
       "      <td>I don't feel comfortable around them; they're ...</td>\n",
       "      <td>racist</td>\n",
       "    </tr>\n",
       "    <tr>\n",
       "      <th>9</th>\n",
       "      <td>They smell bad; it's because of their race.</td>\n",
       "      <td>racist</td>\n",
       "    </tr>\n",
       "    <tr>\n",
       "      <th>10</th>\n",
       "      <td>Women are too emotional to handle leadership p...</td>\n",
       "      <td>sexist</td>\n",
       "    </tr>\n",
       "    <tr>\n",
       "      <th>11</th>\n",
       "      <td>She's only successful because she flirted her ...</td>\n",
       "      <td>sexist</td>\n",
       "    </tr>\n",
       "    <tr>\n",
       "      <th>12</th>\n",
       "      <td>Men are naturally better suited for STEM fields.</td>\n",
       "      <td>sexist</td>\n",
       "    </tr>\n",
       "    <tr>\n",
       "      <th>13</th>\n",
       "      <td>Why do we even bother educating girls? They'll...</td>\n",
       "      <td>sexist</td>\n",
       "    </tr>\n",
       "    <tr>\n",
       "      <th>14</th>\n",
       "      <td>You throw like a girl.</td>\n",
       "      <td>sexist</td>\n",
       "    </tr>\n",
       "    <tr>\n",
       "      <th>15</th>\n",
       "      <td>She's probably on her period; that's why she's...</td>\n",
       "      <td>sexist</td>\n",
       "    </tr>\n",
       "    <tr>\n",
       "      <th>16</th>\n",
       "      <td>Women are too sensitive; they can't handle con...</td>\n",
       "      <td>sexist</td>\n",
       "    </tr>\n",
       "    <tr>\n",
       "      <th>17</th>\n",
       "      <td>Girls should focus on their looks; that's all ...</td>\n",
       "      <td>sexist</td>\n",
       "    </tr>\n",
       "    <tr>\n",
       "      <th>18</th>\n",
       "      <td>He's such a mama's boy; no wonder he can't mak...</td>\n",
       "      <td>sexist</td>\n",
       "    </tr>\n",
       "    <tr>\n",
       "      <th>19</th>\n",
       "      <td>Men should be the breadwinners; it's their rol...</td>\n",
       "      <td>sexist</td>\n",
       "    </tr>\n",
       "    <tr>\n",
       "      <th>20</th>\n",
       "      <td>The sky is blue, and the grass is green.</td>\n",
       "      <td>random</td>\n",
       "    </tr>\n",
       "    <tr>\n",
       "      <th>21</th>\n",
       "      <td>The quick brown fox jumps over the lazy dog.</td>\n",
       "      <td>random</td>\n",
       "    </tr>\n",
       "    <tr>\n",
       "      <th>22</th>\n",
       "      <td>Roses are red, violets are blue, sugar is swee...</td>\n",
       "      <td>random</td>\n",
       "    </tr>\n",
       "    <tr>\n",
       "      <th>23</th>\n",
       "      <td>The Earth orbits the Sun.</td>\n",
       "      <td>random</td>\n",
       "    </tr>\n",
       "    <tr>\n",
       "      <th>24</th>\n",
       "      <td>Water boils at 100 degrees Celsius.</td>\n",
       "      <td>random</td>\n",
       "    </tr>\n",
       "    <tr>\n",
       "      <th>25</th>\n",
       "      <td>The capital of France is Paris.</td>\n",
       "      <td>random</td>\n",
       "    </tr>\n",
       "    <tr>\n",
       "      <th>26</th>\n",
       "      <td>Mount Everest is the tallest mountain in the w...</td>\n",
       "      <td>random</td>\n",
       "    </tr>\n",
       "    <tr>\n",
       "      <th>27</th>\n",
       "      <td>The Mona Lisa was painted by Leonardo da Vinci.</td>\n",
       "      <td>random</td>\n",
       "    </tr>\n",
       "    <tr>\n",
       "      <th>28</th>\n",
       "      <td>The mitochondria are the powerhouse of the cell.</td>\n",
       "      <td>random</td>\n",
       "    </tr>\n",
       "    <tr>\n",
       "      <th>29</th>\n",
       "      <td>Bees pollinate flowers, contributing to biodiv...</td>\n",
       "      <td>random</td>\n",
       "    </tr>\n",
       "  </tbody>\n",
       "</table>\n",
       "</div>"
      ],
      "text/plain": [
       "                                             speeches   label\n",
       "0   People of that race are naturally more prone t...  racist\n",
       "1   I'm not racist, but I wouldn't want my daughte...  racist\n",
       "2   Those people always expect handouts from the g...  racist\n",
       "3    They're taking our jobs and ruining the economy.  racist\n",
       "4        You can't trust them; they're all deceitful.  racist\n",
       "5   That neighborhood is dangerous because it's po...  racist\n",
       "6   They're just lazy; that's why they're unemployed.  racist\n",
       "7   You can't expect them to understand; they're n...  racist\n",
       "8   I don't feel comfortable around them; they're ...  racist\n",
       "9         They smell bad; it's because of their race.  racist\n",
       "10  Women are too emotional to handle leadership p...  sexist\n",
       "11  She's only successful because she flirted her ...  sexist\n",
       "12   Men are naturally better suited for STEM fields.  sexist\n",
       "13  Why do we even bother educating girls? They'll...  sexist\n",
       "14                             You throw like a girl.  sexist\n",
       "15  She's probably on her period; that's why she's...  sexist\n",
       "16  Women are too sensitive; they can't handle con...  sexist\n",
       "17  Girls should focus on their looks; that's all ...  sexist\n",
       "18  He's such a mama's boy; no wonder he can't mak...  sexist\n",
       "19  Men should be the breadwinners; it's their rol...  sexist\n",
       "20           The sky is blue, and the grass is green.  random\n",
       "21       The quick brown fox jumps over the lazy dog.  random\n",
       "22  Roses are red, violets are blue, sugar is swee...  random\n",
       "23                          The Earth orbits the Sun.  random\n",
       "24                Water boils at 100 degrees Celsius.  random\n",
       "25                    The capital of France is Paris.  random\n",
       "26  Mount Everest is the tallest mountain in the w...  random\n",
       "27    The Mona Lisa was painted by Leonardo da Vinci.  random\n",
       "28   The mitochondria are the powerhouse of the cell.  random\n",
       "29  Bees pollinate flowers, contributing to biodiv...  random"
      ]
     },
     "execution_count": 7,
     "metadata": {},
     "output_type": "execute_result"
    }
   ],
   "source": [
    "df"
   ]
  },
  {
   "cell_type": "code",
   "execution_count": 10,
   "id": "abcb5b11",
   "metadata": {},
   "outputs": [
    {
     "data": {
      "application/vnd.jupyter.widget-view+json": {
       "model_id": "f4f62e1e2cf3481c866fdc8d2b743cdd",
       "version_major": 2,
       "version_minor": 0
      },
      "text/plain": [
       "modules.json:   0%|          | 0.00/349 [00:00<?, ?B/s]"
      ]
     },
     "metadata": {},
     "output_type": "display_data"
    },
    {
     "name": "stderr",
     "output_type": "stream",
     "text": [
      "C:\\Users\\ruben\\anaconda3\\Lib\\site-packages\\huggingface_hub\\file_download.py:149: UserWarning: `huggingface_hub` cache-system uses symlinks by default to efficiently store duplicated files but your machine does not support them in C:\\Users\\ruben\\.cache\\huggingface\\hub\\models--sentence-transformers--all-MiniLM-L6-v2. Caching files will still work but in a degraded version that might require more space on your disk. This warning can be disabled by setting the `HF_HUB_DISABLE_SYMLINKS_WARNING` environment variable. For more details, see https://huggingface.co/docs/huggingface_hub/how-to-cache#limitations.\n",
      "To support symlinks on Windows, you either need to activate Developer Mode or to run Python as an administrator. In order to see activate developer mode, see this article: https://docs.microsoft.com/en-us/windows/apps/get-started/enable-your-device-for-development\n",
      "  warnings.warn(message)\n"
     ]
    },
    {
     "data": {
      "application/vnd.jupyter.widget-view+json": {
       "model_id": "683ccd4aded940618513fc52693cecc3",
       "version_major": 2,
       "version_minor": 0
      },
      "text/plain": [
       "config_sentence_transformers.json:   0%|          | 0.00/116 [00:00<?, ?B/s]"
      ]
     },
     "metadata": {},
     "output_type": "display_data"
    },
    {
     "data": {
      "application/vnd.jupyter.widget-view+json": {
       "model_id": "11c1185828ac425ca8a591a9f7f2c3e8",
       "version_major": 2,
       "version_minor": 0
      },
      "text/plain": [
       "README.md:   0%|          | 0.00/10.7k [00:00<?, ?B/s]"
      ]
     },
     "metadata": {},
     "output_type": "display_data"
    },
    {
     "data": {
      "application/vnd.jupyter.widget-view+json": {
       "model_id": "158383023d294dcba30d3e8dff5d0dad",
       "version_major": 2,
       "version_minor": 0
      },
      "text/plain": [
       "sentence_bert_config.json:   0%|          | 0.00/53.0 [00:00<?, ?B/s]"
      ]
     },
     "metadata": {},
     "output_type": "display_data"
    },
    {
     "data": {
      "application/vnd.jupyter.widget-view+json": {
       "model_id": "b6623005f7464df388eb197369bba3f9",
       "version_major": 2,
       "version_minor": 0
      },
      "text/plain": [
       "config.json:   0%|          | 0.00/612 [00:00<?, ?B/s]"
      ]
     },
     "metadata": {},
     "output_type": "display_data"
    },
    {
     "data": {
      "application/vnd.jupyter.widget-view+json": {
       "model_id": "e948f83a4ce8471a9e19f2266bc1e3c0",
       "version_major": 2,
       "version_minor": 0
      },
      "text/plain": [
       "pytorch_model.bin:   0%|          | 0.00/90.9M [00:00<?, ?B/s]"
      ]
     },
     "metadata": {},
     "output_type": "display_data"
    },
    {
     "data": {
      "application/vnd.jupyter.widget-view+json": {
       "model_id": "b64a713cfeb949e1a06128ee0bc061e0",
       "version_major": 2,
       "version_minor": 0
      },
      "text/plain": [
       "tokenizer_config.json:   0%|          | 0.00/350 [00:00<?, ?B/s]"
      ]
     },
     "metadata": {},
     "output_type": "display_data"
    },
    {
     "data": {
      "application/vnd.jupyter.widget-view+json": {
       "model_id": "1e2ba8c58799490ebdfc54c7e06f874b",
       "version_major": 2,
       "version_minor": 0
      },
      "text/plain": [
       "vocab.txt:   0%|          | 0.00/232k [00:00<?, ?B/s]"
      ]
     },
     "metadata": {},
     "output_type": "display_data"
    },
    {
     "data": {
      "application/vnd.jupyter.widget-view+json": {
       "model_id": "e7a35eae60d84381938cfe43529969c1",
       "version_major": 2,
       "version_minor": 0
      },
      "text/plain": [
       "tokenizer.json:   0%|          | 0.00/466k [00:00<?, ?B/s]"
      ]
     },
     "metadata": {},
     "output_type": "display_data"
    },
    {
     "data": {
      "application/vnd.jupyter.widget-view+json": {
       "model_id": "bc3dd82b91ab4bd0bbf658a2116883d0",
       "version_major": 2,
       "version_minor": 0
      },
      "text/plain": [
       "special_tokens_map.json:   0%|          | 0.00/112 [00:00<?, ?B/s]"
      ]
     },
     "metadata": {},
     "output_type": "display_data"
    },
    {
     "data": {
      "application/vnd.jupyter.widget-view+json": {
       "model_id": "3518c138ae934355a1496219c1d476b0",
       "version_major": 2,
       "version_minor": 0
      },
      "text/plain": [
       "1_Pooling/config.json:   0%|          | 0.00/190 [00:00<?, ?B/s]"
      ]
     },
     "metadata": {},
     "output_type": "display_data"
    },
    {
     "ename": "ValueError",
     "evalue": "perplexity must be less than n_samples",
     "output_type": "error",
     "traceback": [
      "\u001b[1;31m---------------------------------------------------------------------------\u001b[0m",
      "\u001b[1;31mValueError\u001b[0m                                Traceback (most recent call last)",
      "Cell \u001b[1;32mIn[10], line 1\u001b[0m\n\u001b[1;32m----> 1\u001b[0m clusterize(df)\n",
      "Cell \u001b[1;32mIn[9], line 8\u001b[0m, in \u001b[0;36mclusterize\u001b[1;34m(df, dim)\u001b[0m\n\u001b[0;32m      5\u001b[0m speeches \u001b[38;5;241m=\u001b[39m df[\u001b[38;5;124m\"\u001b[39m\u001b[38;5;124mspeeches\u001b[39m\u001b[38;5;124m\"\u001b[39m]\n\u001b[0;32m      6\u001b[0m speeches_embedded \u001b[38;5;241m=\u001b[39m sentence_model\u001b[38;5;241m.\u001b[39mencode(speeches)\n\u001b[1;32m----> 8\u001b[0m speeches_emb \u001b[38;5;241m=\u001b[39m tsne\u001b[38;5;241m.\u001b[39mfit_transform(speeches_embedded)\n\u001b[0;32m      9\u001b[0m df[[\u001b[38;5;124m\"\u001b[39m\u001b[38;5;124mx\u001b[39m\u001b[38;5;124m\"\u001b[39m, \u001b[38;5;124m\"\u001b[39m\u001b[38;5;124my\u001b[39m\u001b[38;5;124m\"\u001b[39m, \u001b[38;5;124m\"\u001b[39m\u001b[38;5;124mz\u001b[39m\u001b[38;5;124m\"\u001b[39m][:dim]] \u001b[38;5;241m=\u001b[39m speeches_emb\n\u001b[0;32m     11\u001b[0m ks \u001b[38;5;241m=\u001b[39m []\n",
      "File \u001b[1;32m~\\anaconda3\\Lib\\site-packages\\sklearn\\manifold\\_t_sne.py:1118\u001b[0m, in \u001b[0;36mTSNE.fit_transform\u001b[1;34m(self, X, y)\u001b[0m\n\u001b[0;32m   1097\u001b[0m \u001b[38;5;250m\u001b[39m\u001b[38;5;124;03m\"\"\"Fit X into an embedded space and return that transformed output.\u001b[39;00m\n\u001b[0;32m   1098\u001b[0m \n\u001b[0;32m   1099\u001b[0m \u001b[38;5;124;03mParameters\u001b[39;00m\n\u001b[1;32m   (...)\u001b[0m\n\u001b[0;32m   1115\u001b[0m \u001b[38;5;124;03m    Embedding of the training data in low-dimensional space.\u001b[39;00m\n\u001b[0;32m   1116\u001b[0m \u001b[38;5;124;03m\"\"\"\u001b[39;00m\n\u001b[0;32m   1117\u001b[0m \u001b[38;5;28mself\u001b[39m\u001b[38;5;241m.\u001b[39m_validate_params()\n\u001b[1;32m-> 1118\u001b[0m \u001b[38;5;28mself\u001b[39m\u001b[38;5;241m.\u001b[39m_check_params_vs_input(X)\n\u001b[0;32m   1119\u001b[0m embedding \u001b[38;5;241m=\u001b[39m \u001b[38;5;28mself\u001b[39m\u001b[38;5;241m.\u001b[39m_fit(X)\n\u001b[0;32m   1120\u001b[0m \u001b[38;5;28mself\u001b[39m\u001b[38;5;241m.\u001b[39membedding_ \u001b[38;5;241m=\u001b[39m embedding\n",
      "File \u001b[1;32m~\\anaconda3\\Lib\\site-packages\\sklearn\\manifold\\_t_sne.py:829\u001b[0m, in \u001b[0;36mTSNE._check_params_vs_input\u001b[1;34m(self, X)\u001b[0m\n\u001b[0;32m    827\u001b[0m \u001b[38;5;28;01mdef\u001b[39;00m \u001b[38;5;21m_check_params_vs_input\u001b[39m(\u001b[38;5;28mself\u001b[39m, X):\n\u001b[0;32m    828\u001b[0m     \u001b[38;5;28;01mif\u001b[39;00m \u001b[38;5;28mself\u001b[39m\u001b[38;5;241m.\u001b[39mperplexity \u001b[38;5;241m>\u001b[39m\u001b[38;5;241m=\u001b[39m X\u001b[38;5;241m.\u001b[39mshape[\u001b[38;5;241m0\u001b[39m]:\n\u001b[1;32m--> 829\u001b[0m         \u001b[38;5;28;01mraise\u001b[39;00m \u001b[38;5;167;01mValueError\u001b[39;00m(\u001b[38;5;124m\"\u001b[39m\u001b[38;5;124mperplexity must be less than n_samples\u001b[39m\u001b[38;5;124m\"\u001b[39m)\n",
      "\u001b[1;31mValueError\u001b[0m: perplexity must be less than n_samples"
     ]
    }
   ],
   "source": [
    "clusterize(df)"
   ]
  },
  {
   "cell_type": "code",
   "execution_count": 11,
   "id": "a1d7ec9c",
   "metadata": {},
   "outputs": [
    {
     "ename": "NameError",
     "evalue": "name 'model' is not defined",
     "output_type": "error",
     "traceback": [
      "\u001b[1;31m---------------------------------------------------------------------------\u001b[0m",
      "\u001b[1;31mNameError\u001b[0m                                 Traceback (most recent call last)",
      "Cell \u001b[1;32mIn[11], line 1\u001b[0m\n\u001b[1;32m----> 1\u001b[0m speeches_embedded \u001b[38;5;241m=\u001b[39m model\u001b[38;5;241m.\u001b[39mencode(speeches)\n\u001b[0;32m      2\u001b[0m tsne \u001b[38;5;241m=\u001b[39m TSNE()\n\u001b[0;32m      3\u001b[0m speeches_2D \u001b[38;5;241m=\u001b[39m tsne\u001b[38;5;241m.\u001b[39mfit_transform(speeches_embedded)\n",
      "\u001b[1;31mNameError\u001b[0m: name 'model' is not defined"
     ]
    }
   ],
   "source": [
    "speeches_embedded = model.encode(speeches)\n",
    "tsne = TSNE()\n",
    "speeches_2D = tsne.fit_transform(speeches_embedded)"
   ]
  },
  {
   "cell_type": "code",
   "execution_count": 43,
   "id": "f8b2588a",
   "metadata": {},
   "outputs": [
    {
     "data": {
      "text/plain": [
       "array([[17.112003  , 13.027021  ],\n",
       "       [25.869207  , -6.0582275 ],\n",
       "       [-0.7727344 , -0.9032487 ],\n",
       "       [30.023195  ,  0.18187124],\n",
       "       [-0.5148441 , 16.503704  ],\n",
       "       [26.629227  ,  7.6218443 ],\n",
       "       [ 9.541332  , -9.432576  ],\n",
       "       [19.835423  , -3.0008805 ],\n",
       "       [ 8.807683  ,  7.6588807 ],\n",
       "       [18.030624  , 25.16617   ],\n",
       "       [ 4.0119076 , 11.623998  ],\n",
       "       [26.411993  , 21.076605  ],\n",
       "       [20.146793  , 18.512903  ],\n",
       "       [17.960194  , -9.748654  ],\n",
       "       [30.446852  , 14.576989  ],\n",
       "       [23.699217  , 13.287844  ],\n",
       "       [ 5.9902225 , -3.201998  ],\n",
       "       [-1.8390143 ,  7.833372  ],\n",
       "       [23.459236  ,  2.105854  ],\n",
       "       [13.331977  , -3.5377867 ],\n",
       "       [33.427982  ,  7.148522  ],\n",
       "       [13.5673895 , 18.921938  ],\n",
       "       [ 9.500711  , 24.685438  ],\n",
       "       [10.898239  , 13.366828  ],\n",
       "       [16.863693  ,  2.3805974 ],\n",
       "       [10.586528  ,  1.9383144 ],\n",
       "       [20.452425  ,  7.7069893 ],\n",
       "       [ 4.0430536 ,  3.8103669 ],\n",
       "       [ 6.2389164 , 18.360584  ],\n",
       "       [14.376288  ,  7.778086  ]], dtype=float32)"
      ]
     },
     "execution_count": 43,
     "metadata": {},
     "output_type": "execute_result"
    }
   ],
   "source": [
    "speeches_2D"
   ]
  },
  {
   "cell_type": "code",
   "execution_count": 44,
   "id": "b9713855",
   "metadata": {},
   "outputs": [
    {
     "data": {
      "text/plain": [
       "array([17.112003 , 25.869207 , -0.7727344, 30.023195 , -0.5148441,\n",
       "       26.629227 ,  9.541332 , 19.835423 ,  8.807683 , 18.030624 ,\n",
       "        4.0119076, 26.411993 , 20.146793 , 17.960194 , 30.446852 ,\n",
       "       23.699217 ,  5.9902225, -1.8390143, 23.459236 , 13.331977 ,\n",
       "       33.427982 , 13.5673895,  9.500711 , 10.898239 , 16.863693 ,\n",
       "       10.586528 , 20.452425 ,  4.0430536,  6.2389164, 14.376288 ],\n",
       "      dtype=float32)"
      ]
     },
     "execution_count": 44,
     "metadata": {},
     "output_type": "execute_result"
    }
   ],
   "source": [
    "speeches_2D[:,0]"
   ]
  },
  {
   "cell_type": "code",
   "execution_count": 39,
   "id": "ab8dadbb",
   "metadata": {},
   "outputs": [
    {
     "ename": "NameError",
     "evalue": "name 'px' is not defined",
     "output_type": "error",
     "traceback": [
      "\u001b[1;31m---------------------------------------------------------------------------\u001b[0m",
      "\u001b[1;31mNameError\u001b[0m                                 Traceback (most recent call last)",
      "Cell \u001b[1;32mIn[39], line 5\u001b[0m\n\u001b[0;32m      1\u001b[0m \u001b[38;5;28;01mimport\u001b[39;00m \u001b[38;5;21;01mplotly\u001b[39;00m\u001b[38;5;21;01m.\u001b[39;00m\u001b[38;5;21;01mgraph_objects\u001b[39;00m \u001b[38;5;28;01mas\u001b[39;00m \u001b[38;5;21;01mgo\u001b[39;00m\n\u001b[0;32m      4\u001b[0m fig \u001b[38;5;241m=\u001b[39m go\u001b[38;5;241m.\u001b[39mFigure(\n\u001b[1;32m----> 5\u001b[0m     px\u001b[38;5;241m.\u001b[39mscatter(df,\n\u001b[0;32m      6\u001b[0m         x\u001b[38;5;241m=\u001b[39m\u001b[38;5;124m\"\u001b[39m\u001b[38;5;124mx0\u001b[39m\u001b[38;5;124m\"\u001b[39m,\n\u001b[0;32m      7\u001b[0m         y\u001b[38;5;241m=\u001b[39m\u001b[38;5;124m\"\u001b[39m\u001b[38;5;124my1\u001b[39m\u001b[38;5;124m\"\u001b[39m,\n\u001b[0;32m      8\u001b[0m     ))\n\u001b[0;32m     10\u001b[0m fig\u001b[38;5;241m.\u001b[39mshow()\n",
      "\u001b[1;31mNameError\u001b[0m: name 'px' is not defined"
     ]
    }
   ],
   "source": [
    "import plotly.graph_objects as go\n",
    "import plot\n",
    "\n",
    "fig = go.Figure(\n",
    "    px.scatter(df,\n",
    "        x=\"x0\",\n",
    "        y=\"y1\",\n",
    "    ))\n",
    "\n",
    "fig.show()"
   ]
  },
  {
   "cell_type": "code",
   "execution_count": 56,
   "id": "baf679a8",
   "metadata": {},
   "outputs": [],
   "source": [
    "ks = []\n",
    "calinski = []\n",
    "inertias = []\n",
    "\n",
    "for k in range(3, 18):\n",
    "    model = KMeans(k)\n",
    "    cluster = model.fit_predict(speeches_2D)\n",
    "    \n",
    "    ks.append(k)    \n",
    "    inertias.append(model.inertia_)\n",
    "    calinski.append(calinski_harabasz_score(speeches_2D, cluster))"
   ]
  },
  {
   "cell_type": "code",
   "execution_count": 58,
   "id": "e5415d21",
   "metadata": {},
   "outputs": [
    {
     "name": "stdout",
     "output_type": "stream",
     "text": [
      "4\n"
     ]
    }
   ],
   "source": [
    "import numpy as np\n",
    "\n",
    "best_i = np.argmax(calinski)\n",
    "best_k = ks[best_i]\n",
    "\n",
    "print(best_k)"
   ]
  },
  {
   "cell_type": "code",
   "execution_count": 47,
   "id": "e3a5b3f3",
   "metadata": {},
   "outputs": [],
   "source": [
    "from matplotlib import pyplot as pt"
   ]
  },
  {
   "cell_type": "code",
   "execution_count": 48,
   "id": "566d52b4",
   "metadata": {},
   "outputs": [
    {
     "data": {
      "text/plain": [
       "[<matplotlib.lines.Line2D at 0x119ab125f10>]"
      ]
     },
     "execution_count": 48,
     "metadata": {},
     "output_type": "execute_result"
    },
    {
     "data": {
      "image/png": "[encoded data removed]",
      "text/plain": [
       "<Figure size 432x288 with 1 Axes>"
      ]
     },
     "metadata": {
      "needs_background": "light"
     },
     "output_type": "display_data"
    }
   ],
   "source": [
    "pt.plot(ks, val)"
   ]
  },
  {
   "cell_type": "code",
   "execution_count": 49,
   "id": "4d4b821c",
   "metadata": {},
   "outputs": [
    {
     "data": {
      "text/plain": [
       "[<matplotlib.lines.Line2D at 0x119ab1f9130>]"
      ]
     },
     "execution_count": 49,
     "metadata": {},
     "output_type": "execute_result"
    },
    {
     "data": {
      "image/png": "[encoded data removed]",
      "text/plain": [
       "<Figure size 432x288 with 1 Axes>"
      ]
     },
     "metadata": {
      "needs_background": "light"
     },
     "output_type": "display_data"
    }
   ],
   "source": [
    "pt.plot(ks, inertias)"
   ]
  }
 ],
 "metadata": {
  "kernelspec": {
   "display_name": "Python 3 (ipykernel)",
   "language": "python",
   "name": "python3"
  },
  "language_info": {
   "codemirror_mode": {
    "name": "ipython",
    "version": 3
   },
   "file_extension": ".py",
   "mimetype": "text/x-python",
   "name": "python",
   "nbconvert_exporter": "python",
   "pygments_lexer": "ipython3",
   "version": "3.11.7"
  }
 },
 "nbformat": 4,
 "nbformat_minor": 5
}
